{
 "cells": [
  {
   "cell_type": "code",
   "execution_count": 11,
   "metadata": {},
   "outputs": [
    {
     "name": "stderr",
     "output_type": "stream",
     "text": [
      "C:\\Users\\alsa0217\\Anaconda3\\lib\\site-packages\\pytorch_lightning\\utilities\\distributed.py:37: UserWarning: Unsupported `ReduceOp` for distributed computing.\n",
      "  warnings.warn(*args, **kwargs)\n"
     ]
    }
   ],
   "source": [
    "from scipy.io import wavfile\n",
    "import torch\n",
    "import sounddevice as sd\n",
    "import pytorch_lightning as pl\n",
    "from tqdm import tqdm\n",
    "from trainer import Iminegg\n",
    "from my_iterable_dataset import MyIterableDataset\n",
    "from im_in_egg_unet1_param import ImineggNet1\n",
    "from torch.utils.data import DataLoader"
   ]
  },
  {
   "cell_type": "code",
   "execution_count": null,
   "metadata": {},
   "outputs": [],
   "source": []
  },
  {
   "cell_type": "code",
   "execution_count": 17,
   "metadata": {},
   "outputs": [],
   "source": [
    "ds_validate = MyIterableDataset(100, \"./data/val22\", 22528 * 4)\n",
    "ds_train = MyIterableDataset(100, \"./data/train22\", 22528 * 4)"
   ]
  },
  {
   "cell_type": "code",
   "execution_count": 19,
   "metadata": {},
   "outputs": [
    {
     "name": "stderr",
     "output_type": "stream",
     "text": [
      "GPU available: True, used: True\n",
      "TPU available: False, using: 0 TPU cores\n",
      "CUDA_VISIBLE_DEVICES: [0]\n"
     ]
    },
    {
     "data": {
      "text/plain": [
       "1"
      ]
     },
     "execution_count": 19,
     "metadata": {},
     "output_type": "execute_result"
    }
   ],
   "source": [
    "iminegg_net = ImineggNet1(48)\n",
    "iminegg = Iminegg(iminegg_net)\n",
    "validate_set = DataLoader(ds_validate, batch_size=20)\n",
    "train_set = DataLoader(ds_train, batch_size=20)\n",
    "ckpt = \"epoch=503_no_speach_split.ckpt\" \n",
    "ckpt = \"D:\\epoch=927_supremacy_of_noise.ckpt\"\n",
    "ckpt = \"logs/defaultw48-bs40-drp0.0_relu0.2_add2l/version_3/checkpoints/epoch=797.ckpt\"\n",
    "trainer = pl.Trainer(resume_from_checkpoint=ckpt, gpus=1)\n",
    "trainer.test(model=iminegg, test_dataloaders=train_set, ckpt_path=ckpt)\n"
   ]
  },
  {
   "cell_type": "code",
   "execution_count": 43,
   "metadata": {},
   "outputs": [],
   "source": [
    "samplerate, data = wavfile.read('./tests/source_17.wav')\n",
    "data = (torch.from_numpy(data).float() / 32768)\n",
    "sec1 = 11264\n",
    "off = 0\n",
    "length = (len(data) - off) // sec1 * sec1\n",
    "\n",
    "inp = data[off:off + length]"
   ]
  },
  {
   "cell_type": "code",
   "execution_count": 44,
   "metadata": {
    "scrolled": true
   },
   "outputs": [
    {
     "name": "stdout",
     "output_type": "stream",
     "text": [
      "2\n"
     ]
    }
   ],
   "source": [
    "d = next(iter(ds_train))\n",
    "inp = d['input']\n",
    "print(d['type'])\n",
    "device = torch.device(\"cuda\")\n",
    "samplerate = 22050"
   ]
  },
  {
   "cell_type": "code",
   "execution_count": 45,
   "metadata": {},
   "outputs": [],
   "source": [
    "sd.play(inp.cpu().numpy(), samplerate)"
   ]
  },
  {
   "cell_type": "code",
   "execution_count": 46,
   "metadata": {},
   "outputs": [],
   "source": [
    "trainer.model.net.eval()\n",
    "outp = trainer.model.net.calc(inp.reshape(1, 1, -1).to(device))\n",
    "#outp = trainer.model.net.calc(outp.reshape(1, 1, -1).to(device))"
   ]
  },
  {
   "cell_type": "code",
   "execution_count": 47,
   "metadata": {},
   "outputs": [],
   "source": [
    "sd.play(outp.cpu().detach().numpy().reshape(-1), samplerate)"
   ]
  },
  {
   "cell_type": "code",
   "execution_count": 31,
   "metadata": {},
   "outputs": [],
   "source": [
    "export_outp = (outp.cpu() * 32768).short()\n",
    "export_inp = (inp.cpu() * 32768).short()\n",
    "\n",
    "wavfile.write('tests/filtered_22khz_21.wav', samplerate, export_outp.detach().numpy())\n",
    "wavfile.write('tests/source_22khz_21.wav', samplerate, export_inp.detach().numpy())"
   ]
  },
  {
   "cell_type": "code",
   "execution_count": 48,
   "metadata": {},
   "outputs": [
    {
     "name": "stderr",
     "output_type": "stream",
     "text": [
      "100%|████████████████████████████████████████████████████████████████████████████████| 300/300 [00:15<00:00, 18.97it/s]\n"
     ]
    }
   ],
   "source": [
    "source = ds_validate\n",
    "dr = 'data_ft/val'\n",
    "n = 300\n",
    "\n",
    "for i in tqdm(range(n)):\n",
    "    d = next(iter(source))\n",
    "    inp = d['input']\n",
    "    trgt = d['target']\n",
    "    outp = trainer.model.net.calc(inp.reshape(1, 1, -1).to(device))\n",
    "    export_trgt = (trgt.cpu() * 32768).short()\n",
    "    export_in = (outp.cpu() * 32768).short()\n",
    "    wavfile.write('{}/{}_22khz_in_{}.wav'.format(dr, i, d['type']), samplerate, export_in.detach().numpy())\n",
    "    wavfile.write('{}/{}_22khz_trgt.wav'.format(dr, i), samplerate, export_trgt.detach().numpy())\n",
    "    \n",
    "    "
   ]
  },
  {
   "cell_type": "code",
   "execution_count": 7,
   "metadata": {},
   "outputs": [
    {
     "data": {
      "text/plain": [
       "'2'"
      ]
     },
     "execution_count": 7,
     "metadata": {},
     "output_type": "execute_result"
    }
   ],
   "source": [
    "import re\n",
    "r = re.match(r'(\\d+)_.+?_in_(\\d+)\\.wav', '13_22khz_in_2.wav')\n",
    "r[2]"
   ]
  },
  {
   "cell_type": "code",
   "execution_count": null,
   "metadata": {},
   "outputs": [],
   "source": []
  }
 ],
 "metadata": {
  "kernelspec": {
   "display_name": "Python 3",
   "language": "python",
   "name": "python3"
  },
  "language_info": {
   "codemirror_mode": {
    "name": "ipython",
    "version": 3
   },
   "file_extension": ".py",
   "mimetype": "text/x-python",
   "name": "python",
   "nbconvert_exporter": "python",
   "pygments_lexer": "ipython3",
   "version": "3.8.3"
  }
 },
 "nbformat": 4,
 "nbformat_minor": 4
}
