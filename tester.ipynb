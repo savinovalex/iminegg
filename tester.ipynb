{
 "cells": [
  {
   "cell_type": "code",
   "execution_count": 1,
   "metadata": {},
   "outputs": [
    {
     "name": "stderr",
     "output_type": "stream",
     "text": [
      "C:\\Users\\alsa0217\\Anaconda3\\lib\\site-packages\\pytorch_lightning\\utilities\\distributed.py:37: UserWarning: Unsupported `ReduceOp` for distributed computing.\n",
      "  warnings.warn(*args, **kwargs)\n"
     ]
    }
   ],
   "source": [
    "from scipy.io import wavfile\n",
    "import torch\n",
    "import sounddevice as sd\n",
    "import pytorch_lightning as pl\n",
    "from trainer import Iminegg\n",
    "from my_iterable_dataset import MyIterableDataset\n",
    "from im_in_egg_unet1_param import ImineggNet1\n",
    "from im_in_egg_unet1_param import ImineggNet1 as ImineggNet1FT\n",
    "from torch.utils.data import DataLoader"
   ]
  },
  {
   "cell_type": "code",
   "execution_count": null,
   "metadata": {},
   "outputs": [],
   "source": []
  },
  {
   "cell_type": "code",
   "execution_count": 2,
   "metadata": {},
   "outputs": [
    {
     "name": "stderr",
     "output_type": "stream",
     "text": [
      "c:\\ML\\iminegg\\my_iterable_dataset.py:19: UserWarning: The given NumPy array is not writeable, and PyTorch does not support non-writeable tensors. This means you can write to the underlying (supposedly non-writeable) NumPy array using the tensor. You may want to copy the array to protect its data or make it writeable before converting it to a tensor. This type of warning will be suppressed for the rest of this program. (Triggered internally at  ..\\torch\\csrc\\utils\\tensor_numpy.cpp:141.)\n",
      "  self.voices.append(torch.from_numpy(data).float() / 32768)\n"
     ]
    }
   ],
   "source": [
    "ds_validate = MyIterableDataset(100, \"./data/val22\", 22528 * 4 * 4)"
   ]
  },
  {
   "cell_type": "code",
   "execution_count": 21,
   "metadata": {},
   "outputs": [
    {
     "name": "stderr",
     "output_type": "stream",
     "text": [
      "GPU available: True, used: False\n",
      "TPU available: False, using: 0 TPU cores\n"
     ]
    },
    {
     "data": {
      "text/plain": [
       "1"
      ]
     },
     "execution_count": 21,
     "metadata": {},
     "output_type": "execute_result"
    }
   ],
   "source": [
    "from im_in_egg_unet1_param_add3l_2 import ImineggNet1_1 as ImineggNet1\n",
    "\n",
    "iminegg = Iminegg(ImineggNet1(32))\n",
    "validate_set = DataLoader(ds_validate, batch_size=20)\n",
    "ckpt = \"epoch=503_no_speach_split.ckpt\" \n",
    "ckpt = \"D:\\epoch=927_supremacy_of_noise.ckpt\"\n",
    "ckpt = \"w48_2l_797.ckpt\"\n",
    "ckpt = \"logs/defaultw32-bs40-drp0.2_relu0.2_add3l_33_17_9_5/version_0/checkpoints/epoch=441.ckpt\"\n",
    "trainer = pl.Trainer(resume_from_checkpoint=ckpt, gpus=0)\n",
    "trainer.test(model=iminegg, test_dataloaders=validate_set, ckpt_path=ckpt)\n"
   ]
  },
  {
   "cell_type": "code",
   "execution_count": 63,
   "metadata": {},
   "outputs": [
    {
     "name": "stderr",
     "output_type": "stream",
     "text": [
      "GPU available: True, used: False\n",
      "TPU available: False, using: 0 TPU cores\n"
     ]
    }
   ],
   "source": [
    "from im_in_egg_unet1_param_add3l import ImineggNet1 as ImineggNet\n",
    "\n",
    "iminegg2 = Iminegg(ImineggNet(32))\n",
    "validate_set = DataLoader(ds_validate, batch_size=20)\n",
    "ckpt = \"epoch=503_no_speach_split.ckpt\" \n",
    "ckpt = \"D:\\epoch=927_supremacy_of_noise.ckpt\"\n",
    "ckpt = \"w48_2l_797.ckpt\"\n",
    "ckpt = \"logs/defaultw32-bs40-drp0.2_relu0.2_add2l/version_2/checkpoints/epoch=707.ckpt\"\n",
    "trainer2 = pl.Trainer(resume_from_checkpoint=ckpt, gpus=0)\n",
    "trainer2.test(model=iminegg2, test_dataloaders=validate_set, ckpt_path=ckpt)\n",
    "torch.save(iminegg2.state_dict(), 'defaultw32-bs40-drp0.2_relu0.2_add2l_707.model')\n",
    "\n"
   ]
  },
  {
   "cell_type": "code",
   "execution_count": 61,
   "metadata": {},
   "outputs": [
    {
     "name": "stderr",
     "output_type": "stream",
     "text": [
      "GPU available: True, used: False\n",
      "TPU available: False, using: 0 TPU cores\n"
     ]
    }
   ],
   "source": [
    "from im_in_egg_unet1_param_norm import ImineggNet1 as ImineggNet3\n",
    "\n",
    "iminegg3 = Iminegg(ImineggNet3(56))\n",
    "ckpt = \"epoch=503_no_speach_split.ckpt\" \n",
    "ckpt = \"D:\\epoch=927_supremacy_of_noise.ckpt\"\n",
    "ckpt = \"w48_2l_797.ckpt\"\n",
    "ckpt = \"logs/defaultw56-bs50-drp0.0_relu0.2_NS/version_0/checkpoints/epoch=615.ckpt\"\n",
    "trainer3 = pl.Trainer(resume_from_checkpoint=ckpt, gpus=0)\n",
    "trainer3.test(model=iminegg3, test_dataloaders=validate_set, ckpt_path=ckpt)\n",
    "torch.save(iminegg3.state_dict(), 'defaultw56-bs50-drp0.0_relu0.2_NS_615.model')\n"
   ]
  },
  {
   "cell_type": "code",
   "execution_count": null,
   "metadata": {},
   "outputs": [],
   "source": [
    "ckpt = \"logs/defaultFT_w32-bs40-drp0.2_relu0.2/version_2/checkpoints/epoch=330.ckpt\"\n",
    "iminegg_net_ft = ImineggNet1FT(32)\n",
    "imineggft = Iminegg(iminegg_net_ft)\n",
    "trainer2 = pl.Trainer(resume_from_checkpoint=ckpt, gpus=0)\n",
    "trainer2.test(model=imineggft, ckpt_path=ckpt)\n"
   ]
  },
  {
   "cell_type": "code",
   "execution_count": 4,
   "metadata": {},
   "outputs": [],
   "source": [
    "samplerate, data = wavfile.read('./tests/source_17.wav')\n",
    "data = (torch.from_numpy(data).float() / 32768)\n",
    "sec1 = 11264\n",
    "off = 0\n",
    "length = (len(data) - off) // sec1 * sec1\n",
    "\n",
    "inp = data[off:off + length]"
   ]
  },
  {
   "cell_type": "code",
   "execution_count": 39,
   "metadata": {
    "scrolled": true
   },
   "outputs": [
    {
     "name": "stdout",
     "output_type": "stream",
     "text": [
      "2\n"
     ]
    }
   ],
   "source": [
    "d = next(iter(ds_validate))\n",
    "inp = d['input']\n",
    "print(d['type'])\n",
    "device = torch.device(\"cpu\")\n",
    "samplerate = 22050"
   ]
  },
  {
   "cell_type": "code",
   "execution_count": 47,
   "metadata": {},
   "outputs": [],
   "source": [
    "sd.play(inp.cpu().numpy(), samplerate)"
   ]
  },
  {
   "cell_type": "code",
   "execution_count": 60,
   "metadata": {},
   "outputs": [
    {
     "name": "stdout",
     "output_type": "stream",
     "text": [
      "Wall time: 3.48 s\n"
     ]
    }
   ],
   "source": [
    "%%time\n",
    "trainer.model.net.eval()\n",
    "trainer2.model.net.eval()\n",
    "trainer3.model.net.eval()\n",
    "outp = trainer2.model.net.calc(inp.reshape(1, 1, -1).to(device))\n",
    "#outp = trainer.model.net.calc(outp.reshape(1, 1, -1).to(device))"
   ]
  },
  {
   "cell_type": "code",
   "execution_count": 59,
   "metadata": {},
   "outputs": [],
   "source": [
    "sd.play(outp.cpu().detach().numpy().reshape(-1), samplerate)"
   ]
  },
  {
   "cell_type": "code",
   "execution_count": 64,
   "metadata": {},
   "outputs": [],
   "source": [
    "export_outp = (outp.cpu() * 32768).short()\n",
    "export_inp = (inp.cpu() * 32768).short()\n",
    "\n",
    "wavfile.write('tests/filtered_22khz_21.wav', samplerate, export_outp.detach().numpy())\n",
    "wavfile.write('tests/source_22khz_21.wav', samplerate, export_inp.detach().numpy())"
   ]
  },
  {
   "cell_type": "code",
   "execution_count": null,
   "metadata": {},
   "outputs": [],
   "source": []
  },
  {
   "cell_type": "code",
   "execution_count": null,
   "metadata": {},
   "outputs": [],
   "source": []
  }
 ],
 "metadata": {
  "kernelspec": {
   "display_name": "Python 3",
   "language": "python",
   "name": "python3"
  },
  "language_info": {
   "codemirror_mode": {
    "name": "ipython",
    "version": 3
   },
   "file_extension": ".py",
   "mimetype": "text/x-python",
   "name": "python",
   "nbconvert_exporter": "python",
   "pygments_lexer": "ipython3",
   "version": "3.8.3"
  }
 },
 "nbformat": 4,
 "nbformat_minor": 4
}
