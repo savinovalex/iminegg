{
 "cells": [
  {
   "cell_type": "code",
   "execution_count": 3,
   "metadata": {},
   "outputs": [],
   "source": [
    "from scipy.io import wavfile\n",
    "import torch\n",
    "import sounddevice as sd\n",
    "import pytorch_lightning as pl\n",
    "from trainer import Iminegg\n",
    "from my_iterable_dataset import MyIterableDataset\n",
    "from im_in_egg_unet1_param import ImineggNet1\n",
    "from torch.utils.data import DataLoader"
   ]
  },
  {
   "cell_type": "code",
   "execution_count": 2,
   "metadata": {},
   "outputs": [],
   "source": []
  },
  {
   "cell_type": "code",
   "execution_count": 4,
   "metadata": {},
   "outputs": [
    {
     "name": "stderr",
     "output_type": "stream",
     "text": [
      "c:\\ML\\iminegg\\my_iterable_dataset.py:19: UserWarning: The given NumPy array is not writeable, and PyTorch does not support non-writeable tensors. This means you can write to the underlying (supposedly non-writeable) NumPy array using the tensor. You may want to copy the array to protect its data or make it writeable before converting it to a tensor. This type of warning will be suppressed for the rest of this program. (Triggered internally at  ..\\torch\\csrc\\utils\\tensor_numpy.cpp:141.)\n",
      "  self.voices.append(torch.from_numpy(data).float() / 32768)\n"
     ]
    }
   ],
   "source": [
    "ds_validate = MyIterableDataset(100, \"./data/val\", 22528 * 4)"
   ]
  },
  {
   "cell_type": "code",
   "execution_count": 8,
   "metadata": {},
   "outputs": [
    {
     "name": "stderr",
     "output_type": "stream",
     "text": [
      "GPU available: True, used: False\n",
      "TPU available: False, using: 0 TPU cores\n"
     ]
    },
    {
     "data": {
      "text/plain": [
       "1"
      ]
     },
     "execution_count": 8,
     "metadata": {},
     "output_type": "execute_result"
    }
   ],
   "source": [
    "iminegg_net = ImineggNet1(32, True)\n",
    "iminegg = Iminegg(iminegg_net)\n",
    "validate_set = DataLoader(ds_validate, batch_size=20)\n",
    "ckpt = \"epoch=503_no_speach_split.ckpt\" \n",
    "ckpt = \"logs/defaultw128-bs20/version_8/checkpoints/epoch=875.ckpt\"\n",
    "ckpt = \"logs/defaultw32-bs40/version_1/checkpoints/epoch=357.ckpt\"\n",
    "trainer = pl.Trainer(resume_from_checkpoint=ckpt, gpus=0)\n",
    "trainer.test(model=iminegg, test_dataloaders=validate_set, ckpt_path=ckpt)\n"
   ]
  },
  {
   "cell_type": "code",
   "execution_count": 14,
   "metadata": {},
   "outputs": [],
   "source": [
    "samplerate, data = wavfile.read('./tests/source_17.wav')\n",
    "data = (torch.from_numpy(data).float() / 32768)\n",
    "sec1 = 11264\n",
    "off = 0\n",
    "length = (len(data) - off) // sec1 * sec1\n",
    "\n",
    "inp = data[off:off + length]"
   ]
  },
  {
   "cell_type": "code",
   "execution_count": 12,
   "metadata": {
    "scrolled": true
   },
   "outputs": [
    {
     "name": "stdout",
     "output_type": "stream",
     "text": [
      "2\n"
     ]
    }
   ],
   "source": [
    "d = next(iter(ds_validate))\n",
    "inp = d['input']\n",
    "print(d['type'])\n",
    "device = torch.device(\"cpu\")"
   ]
  },
  {
   "cell_type": "code",
   "execution_count": 15,
   "metadata": {},
   "outputs": [],
   "source": [
    "sd.play(inp.cpu().numpy(), samplerate)"
   ]
  },
  {
   "cell_type": "code",
   "execution_count": 16,
   "metadata": {},
   "outputs": [],
   "source": [
    "trainer.model.net.eval()\n",
    "outp = trainer.model.net.calc(inp.reshape(1, 1, -1).to(device))\n",
    "#outp = trainer.model.net.calc(outp.reshape(1, 1, -1).to(device))"
   ]
  },
  {
   "cell_type": "code",
   "execution_count": 17,
   "metadata": {},
   "outputs": [],
   "source": [
    "sd.play(outp.cpu().detach().numpy().reshape(-1), samplerate)"
   ]
  },
  {
   "cell_type": "code",
   "execution_count": 766,
   "metadata": {},
   "outputs": [],
   "source": [
    "export_outp = (outp.cpu() * 32768).short()\n",
    "export_inp = (inp.cpu() * 32768).short()\n",
    "\n",
    "wavfile.write('tests/filtered_20.wav', samplerate, export_outp.detach().numpy())\n",
    "wavfile.write('tests/source_20.wav', samplerate, export_inp.detach().numpy())"
   ]
  },
  {
   "cell_type": "code",
   "execution_count": null,
   "metadata": {},
   "outputs": [],
   "source": []
  },
  {
   "cell_type": "code",
   "execution_count": null,
   "metadata": {},
   "outputs": [],
   "source": []
  }
 ],
 "metadata": {
  "kernelspec": {
   "display_name": "Python 3",
   "language": "python",
   "name": "python3"
  },
  "language_info": {
   "codemirror_mode": {
    "name": "ipython",
    "version": 3
   },
   "file_extension": ".py",
   "mimetype": "text/x-python",
   "name": "python",
   "nbconvert_exporter": "python",
   "pygments_lexer": "ipython3",
   "version": "3.8.3"
  }
 },
 "nbformat": 4,
 "nbformat_minor": 4
}
