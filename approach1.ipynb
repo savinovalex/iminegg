{
 "cells": [
  {
   "cell_type": "code",
   "execution_count": 1,
   "metadata": {},
   "outputs": [
    {
     "name": "stderr",
     "output_type": "stream",
     "text": [
      "C:\\Users\\alsa0217\\Anaconda3\\lib\\site-packages\\pytorch_lightning\\utilities\\distributed.py:37: UserWarning: Unsupported `ReduceOp` for distributed computing.\n",
      "  warnings.warn(*args, **kwargs)\n"
     ]
    }
   ],
   "source": [
    "from scipy.io import wavfile\n",
    "import torch\n",
    "import sounddevice as sd\n",
    "import collections\n",
    "import random\n",
    "import matplotlib.pyplot as plt\n",
    "import os, glob\n",
    "import torch\n",
    "from torch import nn\n",
    "import torch.nn.functional as F\n",
    "import tensorboardX\n",
    "from torchvision.datasets import MNIST\n",
    "from torch.utils.data import DataLoader, random_split\n",
    "from torchvision import transforms\n",
    "import pytorch_lightning as pl\n",
    "from pytorch_lightning import loggers as pl_loggers"
   ]
  },
  {
   "cell_type": "code",
   "execution_count": 2,
   "metadata": {},
   "outputs": [],
   "source": [
    "def show_loudness(data):\n",
    "    c = collections.Counter(data)\n",
    "    m = dict(sorted(dict(c).items()))\n",
    "    \n",
    "    plt.figure(figsize=(16, 5))\n",
    "    plt.semilogy(list(m.keys()), list(m.values()))\n",
    "    plt.show()\n",
    "    \n",
    "    lowest_count = (data < -10000).sum()\n",
    "    highest_count = (data > 10000).sum()\n",
    "    print('lowest_count:', lowest_count, lowest_count * 100 / len(data), '%' )\n",
    "    print('highest_count:', highest_count, lowest_count * 100 / len(data), '%')"
   ]
  },
  {
   "cell_type": "code",
   "execution_count": 3,
   "metadata": {},
   "outputs": [],
   "source": [
    "device = torch.device(\"cuda\")"
   ]
  },
  {
   "cell_type": "code",
   "execution_count": 4,
   "metadata": {},
   "outputs": [
    {
     "data": {
      "image/png": "[encoded data removed]",
      "text/plain": [
       "<Figure size 1152x360 with 1 Axes>"
      ]
     },
     "metadata": {
      "needs_background": "light"
     },
     "output_type": "display_data"
    },
    {
     "name": "stdout",
     "output_type": "stream",
     "text": [
      "lowest_count: 27 0.00247950277704311 %\n",
      "highest_count: 3 0.00247950277704311 %\n",
      "11025\n",
      "(4796640,)\n"
     ]
    }
   ],
   "source": [
    "samplerate, data = wavfile.read('./data/voice/0015.wav')\n",
    "_, noise = wavfile.read('./data/noise/00713.wav')\n",
    "#sd.play(data[:50000], samplerate)\n",
    "show_loudness(noise)\n",
    "print(samplerate)\n",
    "print(data.shape)"
   ]
  },
  {
   "cell_type": "code",
   "execution_count": 5,
   "metadata": {},
   "outputs": [],
   "source": [
    "class PixelShuffle1D(torch.nn.Module):\n",
    "    \"\"\"\n",
    "    1D pixel shuffler. https://arxiv.org/pdf/1609.05158.pdf\n",
    "    Upscales sample length, downscales channel length\n",
    "    \"short\" is input, \"long\" is output\n",
    "    \"\"\"\n",
    "    def __init__(self, upscale_factor):\n",
    "        super(PixelShuffle1D, self).__init__()\n",
    "        self.upscale_factor = upscale_factor\n",
    "\n",
    "    def forward(self, x):\n",
    "        batch_size = x.shape[0]\n",
    "        short_channel_len = x.shape[1]\n",
    "        short_width = x.shape[2]\n",
    "\n",
    "        long_channel_len = short_channel_len // self.upscale_factor\n",
    "        long_width = self.upscale_factor * short_width\n",
    "\n",
    "        x = x.contiguous().view([batch_size, self.upscale_factor, long_channel_len, short_width])\n",
    "        x = x.permute(0, 2, 3, 1).contiguous()\n",
    "        x = x.view(batch_size, long_channel_len, long_width)\n",
    "\n",
    "        return x"
   ]
  },
  {
   "cell_type": "code",
   "execution_count": 16,
   "metadata": {},
   "outputs": [],
   "source": [
    "class ImineggNet1(nn.Module):\n",
    "    def __init__(self, upscale_factor):\n",
    "        super().__init__()\n",
    "\n",
    "        self.relu = nn.ReLU()\n",
    "        self.conv1 = nn.Conv1d(1, 128, 15, 5, 0)\n",
    "        self.conv2 = nn.Conv1d(128, 256, 15, 10, 10)\n",
    "        self.conv3 = nn.Conv1d(256, 512, 15, 10, 5)\n",
    "        #self.conv4 = nn.Conv1d(512, upscale_factor ** 2, (3, 3), (1, 1), (1, 1))\n",
    "        \n",
    "        self.pixel_shuffle = PixelShuffle1D(512)\n",
    "\n",
    "       \n",
    "    def downsampling(self, x):\n",
    "        #print('INPUT', x.shape)\n",
    "        x = self.relu(self.conv1(x))\n",
    "        #print(x.shape)\n",
    "        x = self.relu(self.conv2(x))\n",
    "        print(x.shape)\n",
    "        x = self.relu(self.conv3(x))\n",
    "        print(x.shape)\n",
    "        \n",
    "        x = self.relu(nn.Conv1d(512, 1024, 15, 10, 5)(x))\n",
    "        print(x.shape)\n",
    "        x = self.relu(nn.Conv1d(1024, 2048, 15, 10, 5)(x))\n",
    "        print(x.shape)\n",
    "        \n",
    "        return x\n",
    "        \n",
    "    def upsampling(self, x):\n",
    "        #print(x.shape)\n",
    "        x = PixelShuffle1D(64)(x) # 32 left\n",
    "        \n",
    "        x = self.relu(nn.Conv1d(32, 32, 15, 1, 7)(x))\n",
    "        \n",
    "        print(x.shape)\n",
    "        \n",
    "        x = PixelShuffle1D(32)(x) # 1 left\n",
    "        \n",
    "        print(x.shape)\n",
    "        return x\n",
    "\n",
    "    def calc(self, x):\n",
    "        z = x\n",
    "        x = self.downsampling(x)\n",
    "        x = self.upsampling(x)\n",
    "        return x[:,:,:22050] + z\n",
    "\n",
    "iminegg_net = ImineggNet1(2)\n"
   ]
  },
  {
   "cell_type": "code",
   "execution_count": 17,
   "metadata": {},
   "outputs": [
    {
     "name": "stdout",
     "output_type": "stream",
     "text": [
      "torch.Size([1, 256, 442])\n",
      "torch.Size([1, 512, 44])\n",
      "torch.Size([1, 1024, 4])\n"
     ]
    },
    {
     "ename": "RuntimeError",
     "evalue": "Calculated padded input size per channel: (14). Kernel size: (15). Kernel size can't be greater than actual input size",
     "output_type": "error",
     "traceback": [
      "\u001b[1;31m---------------------------------------------------------------------------\u001b[0m",
      "\u001b[1;31mRuntimeError\u001b[0m                              Traceback (most recent call last)",
      "\u001b[1;32m<ipython-input-17-51d39e2e2890>\u001b[0m in \u001b[0;36m<module>\u001b[1;34m\u001b[0m\n\u001b[1;32m----> 1\u001b[1;33m \u001b[0miminegg_net\u001b[0m\u001b[1;33m.\u001b[0m\u001b[0mdownsampling\u001b[0m\u001b[1;33m(\u001b[0m\u001b[0mtorch\u001b[0m\u001b[1;33m.\u001b[0m\u001b[0mzeros\u001b[0m\u001b[1;33m(\u001b[0m\u001b[1;36m1\u001b[0m\u001b[1;33m,\u001b[0m \u001b[1;36m1\u001b[0m\u001b[1;33m,\u001b[0m \u001b[0mtrain_sample_length\u001b[0m\u001b[1;33m)\u001b[0m\u001b[1;33m.\u001b[0m\u001b[0mfloat\u001b[0m\u001b[1;33m(\u001b[0m\u001b[1;33m)\u001b[0m\u001b[1;33m)\u001b[0m\u001b[1;33m\u001b[0m\u001b[1;33m\u001b[0m\u001b[0m\n\u001b[0m",
      "\u001b[1;32m<ipython-input-16-b890dda49402>\u001b[0m in \u001b[0;36mdownsampling\u001b[1;34m(self, x)\u001b[0m\n\u001b[0;32m     23\u001b[0m         \u001b[0mx\u001b[0m \u001b[1;33m=\u001b[0m \u001b[0mself\u001b[0m\u001b[1;33m.\u001b[0m\u001b[0mrelu\u001b[0m\u001b[1;33m(\u001b[0m\u001b[0mnn\u001b[0m\u001b[1;33m.\u001b[0m\u001b[0mConv1d\u001b[0m\u001b[1;33m(\u001b[0m\u001b[1;36m512\u001b[0m\u001b[1;33m,\u001b[0m \u001b[1;36m1024\u001b[0m\u001b[1;33m,\u001b[0m \u001b[1;36m15\u001b[0m\u001b[1;33m,\u001b[0m \u001b[1;36m10\u001b[0m\u001b[1;33m,\u001b[0m \u001b[1;36m5\u001b[0m\u001b[1;33m)\u001b[0m\u001b[1;33m(\u001b[0m\u001b[0mx\u001b[0m\u001b[1;33m)\u001b[0m\u001b[1;33m)\u001b[0m\u001b[1;33m\u001b[0m\u001b[1;33m\u001b[0m\u001b[0m\n\u001b[0;32m     24\u001b[0m         \u001b[0mprint\u001b[0m\u001b[1;33m(\u001b[0m\u001b[0mx\u001b[0m\u001b[1;33m.\u001b[0m\u001b[0mshape\u001b[0m\u001b[1;33m)\u001b[0m\u001b[1;33m\u001b[0m\u001b[1;33m\u001b[0m\u001b[0m\n\u001b[1;32m---> 25\u001b[1;33m         \u001b[0mx\u001b[0m \u001b[1;33m=\u001b[0m \u001b[0mself\u001b[0m\u001b[1;33m.\u001b[0m\u001b[0mrelu\u001b[0m\u001b[1;33m(\u001b[0m\u001b[0mnn\u001b[0m\u001b[1;33m.\u001b[0m\u001b[0mConv1d\u001b[0m\u001b[1;33m(\u001b[0m\u001b[1;36m1024\u001b[0m\u001b[1;33m,\u001b[0m \u001b[1;36m2048\u001b[0m\u001b[1;33m,\u001b[0m \u001b[1;36m15\u001b[0m\u001b[1;33m,\u001b[0m \u001b[1;36m10\u001b[0m\u001b[1;33m,\u001b[0m \u001b[1;36m5\u001b[0m\u001b[1;33m)\u001b[0m\u001b[1;33m(\u001b[0m\u001b[0mx\u001b[0m\u001b[1;33m)\u001b[0m\u001b[1;33m)\u001b[0m\u001b[1;33m\u001b[0m\u001b[1;33m\u001b[0m\u001b[0m\n\u001b[0m\u001b[0;32m     26\u001b[0m         \u001b[0mprint\u001b[0m\u001b[1;33m(\u001b[0m\u001b[0mx\u001b[0m\u001b[1;33m.\u001b[0m\u001b[0mshape\u001b[0m\u001b[1;33m)\u001b[0m\u001b[1;33m\u001b[0m\u001b[1;33m\u001b[0m\u001b[0m\n\u001b[0;32m     27\u001b[0m \u001b[1;33m\u001b[0m\u001b[0m\n",
      "\u001b[1;32m~\\Anaconda3\\lib\\site-packages\\torch\\nn\\modules\\module.py\u001b[0m in \u001b[0;36m_call_impl\u001b[1;34m(self, *input, **kwargs)\u001b[0m\n\u001b[0;32m    720\u001b[0m             \u001b[0mresult\u001b[0m \u001b[1;33m=\u001b[0m \u001b[0mself\u001b[0m\u001b[1;33m.\u001b[0m\u001b[0m_slow_forward\u001b[0m\u001b[1;33m(\u001b[0m\u001b[1;33m*\u001b[0m\u001b[0minput\u001b[0m\u001b[1;33m,\u001b[0m \u001b[1;33m**\u001b[0m\u001b[0mkwargs\u001b[0m\u001b[1;33m)\u001b[0m\u001b[1;33m\u001b[0m\u001b[1;33m\u001b[0m\u001b[0m\n\u001b[0;32m    721\u001b[0m         \u001b[1;32melse\u001b[0m\u001b[1;33m:\u001b[0m\u001b[1;33m\u001b[0m\u001b[1;33m\u001b[0m\u001b[0m\n\u001b[1;32m--> 722\u001b[1;33m             \u001b[0mresult\u001b[0m \u001b[1;33m=\u001b[0m \u001b[0mself\u001b[0m\u001b[1;33m.\u001b[0m\u001b[0mforward\u001b[0m\u001b[1;33m(\u001b[0m\u001b[1;33m*\u001b[0m\u001b[0minput\u001b[0m\u001b[1;33m,\u001b[0m \u001b[1;33m**\u001b[0m\u001b[0mkwargs\u001b[0m\u001b[1;33m)\u001b[0m\u001b[1;33m\u001b[0m\u001b[1;33m\u001b[0m\u001b[0m\n\u001b[0m\u001b[0;32m    723\u001b[0m         for hook in itertools.chain(\n\u001b[0;32m    724\u001b[0m                 \u001b[0m_global_forward_hooks\u001b[0m\u001b[1;33m.\u001b[0m\u001b[0mvalues\u001b[0m\u001b[1;33m(\u001b[0m\u001b[1;33m)\u001b[0m\u001b[1;33m,\u001b[0m\u001b[1;33m\u001b[0m\u001b[1;33m\u001b[0m\u001b[0m\n",
      "\u001b[1;32m~\\Anaconda3\\lib\\site-packages\\torch\\nn\\modules\\conv.py\u001b[0m in \u001b[0;36mforward\u001b[1;34m(self, input)\u001b[0m\n\u001b[0;32m    254\u001b[0m                             \u001b[0mself\u001b[0m\u001b[1;33m.\u001b[0m\u001b[0mweight\u001b[0m\u001b[1;33m,\u001b[0m \u001b[0mself\u001b[0m\u001b[1;33m.\u001b[0m\u001b[0mbias\u001b[0m\u001b[1;33m,\u001b[0m \u001b[0mself\u001b[0m\u001b[1;33m.\u001b[0m\u001b[0mstride\u001b[0m\u001b[1;33m,\u001b[0m\u001b[1;33m\u001b[0m\u001b[1;33m\u001b[0m\u001b[0m\n\u001b[0;32m    255\u001b[0m                             _single(0), self.dilation, self.groups)\n\u001b[1;32m--> 256\u001b[1;33m         return F.conv1d(input, self.weight, self.bias, self.stride,\n\u001b[0m\u001b[0;32m    257\u001b[0m                         self.padding, self.dilation, self.groups)\n\u001b[0;32m    258\u001b[0m \u001b[1;33m\u001b[0m\u001b[0m\n",
      "\u001b[1;31mRuntimeError\u001b[0m: Calculated padded input size per channel: (14). Kernel size: (15). Kernel size can't be greater than actual input size"
     ]
    }
   ],
   "source": [
    "iminegg_net.downsampling(torch.zeros(1, 1, train_sample_length).float())"
   ]
  },
  {
   "cell_type": "code",
   "execution_count": 7,
   "metadata": {},
   "outputs": [],
   "source": [
    "#sd.play(data[:samplerate*2] + noise[samplerate:samplerate*3] // 10 , samplerate)"
   ]
  },
  {
   "cell_type": "code",
   "execution_count": null,
   "metadata": {},
   "outputs": [],
   "source": [
    " "
   ]
  },
  {
   "cell_type": "code",
   "execution_count": 7,
   "metadata": {},
   "outputs": [
    {
     "name": "stderr",
     "output_type": "stream",
     "text": [
      "<ipython-input-7-0f1e9bbd93c2>:4: UserWarning: The given NumPy array is not writeable, and PyTorch does not support non-writeable tensors. This means you can write to the underlying (supposedly non-writeable) NumPy array using the tensor. You may want to copy the array to protect its data or make it writeable before converting it to a tensor. This type of warning will be suppressed for the rest of this program. (Triggered internally at  ..\\torch\\csrc\\utils\\tensor_numpy.cpp:141.)\n",
      "  voices.append(torch.from_numpy(data).to(device).float() / 32768)\n"
     ]
    }
   ],
   "source": [
    "voices = []\n",
    "for file in glob.glob(\"./data/voice/*.wav\"):\n",
    "    samplerate, data = wavfile.read(file)\n",
    "    voices.append(torch.from_numpy(data).to(device).float() / 32768)\n",
    "noises = []\n",
    "for file in glob.glob(\"./data/noise/*.wav\"):\n",
    "    _, data = wavfile.read(file)\n",
    "    noises.append(torch.from_numpy(data).to(device).float() / 32768)\n",
    "    \n",
    "train_sample_length = int(samplerate * 2)\n",
    "silence = torch.zeros(train_sample_length).to(device)\n"
   ]
  },
  {
   "cell_type": "code",
   "execution_count": 8,
   "metadata": {},
   "outputs": [],
   "source": [
    "#sd.play(voices[5][:train_sample_length*3].cpu(), samplerate)"
   ]
  },
  {
   "cell_type": "code",
   "execution_count": 9,
   "metadata": {},
   "outputs": [],
   "source": [
    "\n",
    "class Iminegg(pl.LightningModule):\n",
    "\n",
    "    def __init__(self, net):\n",
    "        super().__init__()\n",
    "        self.net = net\n",
    "\n",
    "    def training_step(self, batch, batch_idx):\n",
    "        # training_step defined the train loop. It is independent of forward\n",
    "        x = torch.unsqueeze(batch['input'], 1)\n",
    "        y = torch.unsqueeze(batch['target'], 1)\n",
    "        \n",
    "        x_hat = self.net.calc(x)\n",
    "        \n",
    "        #loss = F.mse_loss(x_hat, y) * 100\n",
    "        loss = torch.norm(x_hat - y, p=1) / 22050\n",
    "        #print((x_hat-y).abs().max(), loss.item())\n",
    "        \n",
    "        logs={\"train_loss\": loss}\n",
    "        batch_dictionary={\n",
    "            #REQUIRED: It ie required for us to return \"loss\"\n",
    "            \"loss\": loss,\n",
    "            \n",
    "            #optional for batch logging purposes\n",
    "            \"log\": logs,\n",
    "        }\n",
    "        return batch_dictionary\n",
    "\n",
    "    def configure_optimizers(self):\n",
    "        optimizer = torch.optim.Adam(self.parameters(), lr=1e-3)\n",
    "        return optimizer\n",
    "    \n",
    "    def training_epoch_end(self,outputs):\n",
    "        #  the function is called after every epoch is completed\n",
    "\n",
    "        # calculating average loss  \n",
    "        avg_loss = torch.stack([x['loss'] for x in outputs]).mean()\n",
    "\n",
    "        # calculating correect and total predictions\n",
    "        correct=1\n",
    "        total=2\n",
    "\n",
    "        # creating log dictionary\n",
    "        tensorboard_logs = {'loss': avg_loss,\"Accuracy\": correct/total}\n",
    "\n",
    "        epoch_dictionary={\n",
    "            # required\n",
    "            'loss': avg_loss,\n",
    "            \n",
    "            # for logging purposes\n",
    "            'log': tensorboard_logs}\n",
    "\n",
    "        return epoch_dictionary\n",
    "    \n",
    "iminegg = Iminegg(iminegg_net)"
   ]
  },
  {
   "cell_type": "code",
   "execution_count": 13,
   "metadata": {},
   "outputs": [],
   "source": [
    "class MyIterableDataset(torch.utils.data.IterableDataset):\n",
    "    def __init__(self, data_len):\n",
    "        super().__init__()\n",
    "        self.data_len = data_len\n",
    "\n",
    "    def _voice_sample(self):\n",
    "        s = voices[random.randint(0, len(voices) - 1)]\n",
    "        offset = random.randint(0, len(s) - train_sample_length - 1)\n",
    "        return s[offset:offset + train_sample_length]\n",
    "    \n",
    "    def _noise_sample(self):\n",
    "        s = noises[random.randint(0, len(noises) - 1)]\n",
    "        offset = random.randint(0, len(s) - train_sample_length - 1)\n",
    "        return s[offset:offset + train_sample_length]\n",
    "        \n",
    "    def generate_with_noise(self):\n",
    "        voice = self._voice_sample()\n",
    "        noise = self._noise_sample()\n",
    "        return {'input': voice + noise / 10, 'target': voice}\n",
    "    \n",
    "    def generate_voice(self):\n",
    "        voice = self._voice_sample()\n",
    "        return {'input': voice, 'target': voice}\n",
    "    \n",
    "    def generate_noise(self):\n",
    "        noise = self._noise_sample()\n",
    "        return {'input': noise / 10, 'target': silence}\n",
    "    \n",
    "    def generate(self):\n",
    "        r = random.uniform(0, 1)\n",
    "        if r < 1.0:\n",
    "            return self.generate_with_noise()\n",
    "        if r < 1.0:\n",
    "            return self.generate_voice()\n",
    "        return self.generate_noise()\n",
    "        \n",
    "    def __iter__(self):\n",
    "        return self\n",
    "    \n",
    "    def __len__(self):\n",
    "        return self.data_len\n",
    "    \n",
    "    def __next__(self):\n",
    "        return self.generate()"
   ]
  },
  {
   "cell_type": "code",
   "execution_count": 14,
   "metadata": {},
   "outputs": [],
   "source": [
    "ds_train = MyIterableDataset(100000)\n",
    "ds_validate = MyIterableDataset(5000)"
   ]
  },
  {
   "cell_type": "code",
   "execution_count": 15,
   "metadata": {},
   "outputs": [
    {
     "name": "stderr",
     "output_type": "stream",
     "text": [
      "GPU available: True, used: True\n",
      "TPU available: False, using: 0 TPU cores\n",
      "CUDA_VISIBLE_DEVICES: [0]\n",
      "\n",
      "  | Name | Type        | Params\n",
      "-------------------------------------\n",
      "0 | net  | ImineggNet1 | 2 M   \n"
     ]
    },
    {
     "data": {
      "application/vnd.jupyter.widget-view+json": {
       "model_id": "af2c40869f894878b0ad8d9865e5ab8a",
       "version_major": 2,
       "version_minor": 0
      },
      "text/plain": [
       "HBox(children=(FloatProgress(value=1.0, bar_style='info', description='Training', layout=Layout(flex='2'), max…"
      ]
     },
     "metadata": {},
     "output_type": "display_data"
    },
    {
     "name": "stderr",
     "output_type": "stream",
     "text": [
      "Saving latest checkpoint..\n"
     ]
    },
    {
     "name": "stdout",
     "output_type": "stream",
     "text": [
      "\n"
     ]
    },
    {
     "data": {
      "text/plain": [
       "1"
      ]
     },
     "execution_count": 15,
     "metadata": {},
     "output_type": "execute_result"
    }
   ],
   "source": [
    "tb_logger = pl_loggers.TensorBoardLogger('logs/')\n",
    "\n",
    "trainer = pl.Trainer(max_epochs=4, gpus=1, logger=tb_logger)\n",
    "train_set = DataLoader(ds_train, batch_size=300)\n",
    "validate_set = DataLoader(ds_validate, batch_size=100)\n",
    "trainer.fit(iminegg, train_set, validate_set)\n"
   ]
  },
  {
   "cell_type": "code",
   "execution_count": null,
   "metadata": {},
   "outputs": [],
   "source": []
  },
  {
   "cell_type": "code",
   "execution_count": 94,
   "metadata": {},
   "outputs": [
    {
     "data": {
      "text/plain": [
       "<matplotlib.image.AxesImage at 0x266f96dac10>"
      ]
     },
     "execution_count": 94,
     "metadata": {},
     "output_type": "execute_result"
    },
    {
     "data": {
      "image/png": "[encoded data removed]",
      "text/plain": [
       "<Figure size 432x288 with 1 Axes>"
      ]
     },
     "metadata": {
      "needs_background": "light"
     },
     "output_type": "display_data"
    }
   ],
   "source": [
    "#dataset[101][0].shape\n",
    "plt.imshow(dataset[132][0].reshape(-1, 28))"
   ]
  },
  {
   "cell_type": "code",
   "execution_count": 217,
   "metadata": {},
   "outputs": [
    {
     "data": {
      "text/plain": [
       "<matplotlib.image.AxesImage at 0x266fc6a2f10>"
      ]
     },
     "execution_count": 217,
     "metadata": {},
     "output_type": "execute_result"
    },
    {
     "data": {
      "image/png": "[encoded data removed]",
      "text/plain": [
       "<Figure size 432x288 with 1 Axes>"
      ]
     },
     "metadata": {
      "needs_background": "light"
     },
     "output_type": "display_data"
    }
   ],
   "source": [
    "plt.imshow(\n",
    "autoencoder.decoder(\n",
    "    autoencoder.forward(dataset[115][0].reshape(-1))\n",
    ").reshape(28, -1).detach().numpy() )\n"
   ]
  },
  {
   "cell_type": "code",
   "execution_count": 8,
   "metadata": {},
   "outputs": [
    {
     "name": "stderr",
     "output_type": "stream",
     "text": [
      "<ipython-input-8-56907183a47b>:4: UserWarning: The given NumPy array is not writeable, and PyTorch does not support non-writeable tensors. This means you can write to the underlying (supposedly non-writeable) NumPy array using the tensor. You may want to copy the array to protect its data or make it writeable before converting it to a tensor. This type of warning will be suppressed for the rest of this program. (Triggered internally at  ..\\torch\\csrc\\utils\\tensor_numpy.cpp:141.)\n",
      "  voices.append(torch.from_numpy(data).to(device).float())\n"
     ]
    }
   ],
   "source": []
  },
  {
   "cell_type": "code",
   "execution_count": 9,
   "metadata": {},
   "outputs": [],
   "source": []
  },
  {
   "cell_type": "code",
   "execution_count": 10,
   "metadata": {},
   "outputs": [],
   "source": []
  },
  {
   "cell_type": "code",
   "execution_count": 254,
   "metadata": {},
   "outputs": [
    {
     "data": {
      "text/plain": [
       "{'input': tensor([[-1703, -1614, -1330,  ...,   312,   633,   757],\n",
       "         [ -254,  -104,   170,  ..., 10608, 11919, 12667],\n",
       "         [-3496, -5741, -5815,  ..., -7884, -3682,  -280],\n",
       "         [ 6611,  -565,   246,  ..., -1606, -1655, -1527]], device='cuda:0',\n",
       "        dtype=torch.int16),\n",
       " 'target': tensor([[    0.,     0.,     0.,  ...,     0.,     0.,     0.],\n",
       "         [ -254.,  -104.,   170.,  ..., 10608., 11919., 12667.],\n",
       "         [    0.,     0.,     0.,  ...,     0.,     0.,     0.],\n",
       "         [ 6475.,  -632.,   296.,  ..., -1625., -1664., -1521.]],\n",
       "        device='cuda:0')}"
      ]
     },
     "execution_count": 254,
     "metadata": {},
     "output_type": "execute_result"
    }
   ],
   "source": [
    "dl = DataLoader(ds, batch_size=4)\n",
    "next(iter(dl))"
   ]
  },
  {
   "cell_type": "code",
   "execution_count": 68,
   "metadata": {},
   "outputs": [],
   "source": [
    "inp = ds_train.generate_with_noise()['input'].cpu()\n",
    "sd.play(inp, samplerate)"
   ]
  },
  {
   "cell_type": "code",
   "execution_count": null,
   "metadata": {},
   "outputs": [],
   "source": []
  },
  {
   "cell_type": "code",
   "execution_count": 71,
   "metadata": {},
   "outputs": [],
   "source": [
    "outp = iminegg_net.calc(torch.unsqueeze(torch.unsqueeze(inp, 0), 0)).reshape(-1)\n",
    "outp.shape\n",
    "sd.play(outp.detach().numpy(), samplerate)"
   ]
  },
  {
   "cell_type": "code",
   "execution_count": 42,
   "metadata": {},
   "outputs": [],
   "source": [
    "sd.play(ds_train.generate_with_noise()['input'].cpu(), samplerate)"
   ]
  }
 ],
 "metadata": {
  "kernelspec": {
   "display_name": "Python 3",
   "language": "python",
   "name": "python3"
  },
  "language_info": {
   "codemirror_mode": {
    "name": "ipython",
    "version": 3
   },
   "file_extension": ".py",
   "mimetype": "text/x-python",
   "name": "python",
   "nbconvert_exporter": "python",
   "pygments_lexer": "ipython3",
   "version": "3.8.3"
  }
 },
 "nbformat": 4,
 "nbformat_minor": 4
}
