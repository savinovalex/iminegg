{
 "cells": [
  {
   "cell_type": "code",
   "execution_count": 1,
   "metadata": {},
   "outputs": [
    {
     "name": "stderr",
     "output_type": "stream",
     "text": [
      "C:\\Users\\alsa0217\\Anaconda3\\lib\\site-packages\\pytorch_lightning\\utilities\\distributed.py:37: UserWarning: Unsupported `ReduceOp` for distributed computing.\n",
      "  warnings.warn(*args, **kwargs)\n"
     ]
    }
   ],
   "source": [
    "%load_ext autoreload\n",
    "%autoreload 2\n",
    "from scipy.io import wavfile\n",
    "import torch\n",
    "import sounddevice as sd\n",
    "import collections\n",
    "import random\n",
    "import matplotlib.pyplot as plt\n",
    "import os, glob\n",
    "import torch\n",
    "from torch import nn\n",
    "import torch.nn.functional as F\n",
    "import tensorboardX\n",
    "from torchvision.datasets import MNIST\n",
    "from torch.utils.data import DataLoader, random_split\n",
    "from torchvision import transforms\n",
    "import pytorch_lightning as pl\n",
    "from pytorch_lightning import loggers as pl_loggers\n",
    "from im_in_egg_unet1 import ImineggNet1\n",
    "from pixel_shuffle import PixelShuffle1D\n",
    "from trainer import Iminegg\n",
    "from my_iterable_dataset import MyIterableDataset"
   ]
  },
  {
   "cell_type": "code",
   "execution_count": 2,
   "metadata": {},
   "outputs": [],
   "source": [
    "def show_loudness(data):\n",
    "    if isinstance(data, torch.Tensor): data = data.numpy()\n",
    "    c = collections.Counter(data)\n",
    "    m = dict(sorted(dict(c).items()))\n",
    "    \n",
    "    plt.figure(figsize=(16, 5))\n",
    "    plt.semilogy(list(m.keys()), list(m.values()))\n",
    "    plt.show()\n",
    "    \n",
    "#    lowest_count = (data < -10000).sum()\n",
    "#    highest_count = (data > 10000).sum()\n",
    "#    print('lowest_count:', lowest_count, lowest_count * 100 / len(data), '%' )\n",
    "#    print('highest_count:', highest_count, lowest_count * 100 / len(data), '%')"
   ]
  },
  {
   "cell_type": "code",
   "execution_count": 3,
   "metadata": {},
   "outputs": [],
   "source": [
    "device = torch.device(\"cuda\")"
   ]
  },
  {
   "cell_type": "code",
   "execution_count": 13,
   "metadata": {},
   "outputs": [
    {
     "data": {
      "image/png": "[encoded data removed]",
      "text/plain": [
       "<Figure size 1152x360 with 1 Axes>"
      ]
     },
     "metadata": {
      "needs_background": "light"
     },
     "output_type": "display_data"
    },
    {
     "name": "stdout",
     "output_type": "stream",
     "text": [
      "11025\n",
      "(4796640,)\n"
     ]
    }
   ],
   "source": [
    "samplerate, data = wavfile.read('./data/train/voice/0015.wav')\n",
    "_, noise = wavfile.read('./data/train/noise/00713.wav')\n",
    "#sd.play(data[:50000], samplerate)\n",
    "show_loudness(noise)\n",
    "print(samplerate)\n",
    "print(data.shape)"
   ]
  },
  {
   "cell_type": "code",
   "execution_count": null,
   "metadata": {},
   "outputs": [],
   "source": []
  },
  {
   "cell_type": "code",
   "execution_count": 4,
   "metadata": {},
   "outputs": [],
   "source": [
    "iminegg_net = ImineggNet1(2)"
   ]
  },
  {
   "cell_type": "code",
   "execution_count": 6,
   "metadata": {},
   "outputs": [
    {
     "ename": "NameError",
     "evalue": "name 'train_sample_length' is not defined",
     "output_type": "error",
     "traceback": [
      "\u001b[1;31m---------------------------------------------------------------------------\u001b[0m",
      "\u001b[1;31mNameError\u001b[0m                                 Traceback (most recent call last)",
      "\u001b[1;32m<ipython-input-6-289d3122a168>\u001b[0m in \u001b[0;36m<module>\u001b[1;34m\u001b[0m\n\u001b[0;32m      2\u001b[0m \u001b[1;33m\u001b[0m\u001b[0m\n\u001b[0;32m      3\u001b[0m \u001b[1;33m\u001b[0m\u001b[0m\n\u001b[1;32m----> 4\u001b[1;33m \u001b[0mx\u001b[0m\u001b[1;33m,\u001b[0m \u001b[0md_outs\u001b[0m \u001b[1;33m=\u001b[0m \u001b[0miminegg_net\u001b[0m\u001b[1;33m.\u001b[0m\u001b[0mdownsampling\u001b[0m\u001b[1;33m(\u001b[0m\u001b[0mtorch\u001b[0m\u001b[1;33m.\u001b[0m\u001b[0mzeros\u001b[0m\u001b[1;33m(\u001b[0m\u001b[1;36m1\u001b[0m\u001b[1;33m,\u001b[0m \u001b[1;36m1\u001b[0m\u001b[1;33m,\u001b[0m \u001b[0mtrain_sample_length\u001b[0m\u001b[1;33m)\u001b[0m\u001b[1;33m.\u001b[0m\u001b[0mfloat\u001b[0m\u001b[1;33m(\u001b[0m\u001b[1;33m)\u001b[0m\u001b[1;33m)\u001b[0m\u001b[1;33m\u001b[0m\u001b[1;33m\u001b[0m\u001b[0m\n\u001b[0m\u001b[0;32m      5\u001b[0m \u001b[0mx\u001b[0m \u001b[1;33m=\u001b[0m \u001b[0miminegg_net\u001b[0m\u001b[1;33m.\u001b[0m\u001b[0mbottle_neck\u001b[0m\u001b[1;33m(\u001b[0m\u001b[0mx\u001b[0m\u001b[1;33m)\u001b[0m\u001b[1;33m\u001b[0m\u001b[1;33m\u001b[0m\u001b[0m\n\u001b[0;32m      6\u001b[0m \u001b[0miminegg_net\u001b[0m\u001b[1;33m.\u001b[0m\u001b[0mupsampling\u001b[0m\u001b[1;33m(\u001b[0m\u001b[0mx\u001b[0m\u001b[1;33m,\u001b[0m \u001b[0md_outs\u001b[0m\u001b[1;33m)\u001b[0m\u001b[1;33m\u001b[0m\u001b[1;33m\u001b[0m\u001b[0m\n",
      "\u001b[1;31mNameError\u001b[0m: name 'train_sample_length' is not defined"
     ]
    }
   ],
   "source": [
    "#iminegg_net.upsampling(iminegg_net.downsampling(torch.zeros(1, 1, train_sample_length).float()))\n",
    "\n",
    "\n",
    "x, d_outs = iminegg_net.downsampling(torch.zeros(1, 1, train_sample_length).float())\n",
    "x = iminegg_net.bottle_neck(x)\n",
    "iminegg_net.upsampling(x, d_outs)"
   ]
  },
  {
   "cell_type": "code",
   "execution_count": null,
   "metadata": {},
   "outputs": [],
   "source": [
    "#sd.play(data[:samplerate*2] + noise[samplerate:samplerate*3] // 10 , samplerate)"
   ]
  },
  {
   "cell_type": "code",
   "execution_count": null,
   "metadata": {},
   "outputs": [],
   "source": [
    " "
   ]
  },
  {
   "cell_type": "code",
   "execution_count": null,
   "metadata": {},
   "outputs": [],
   "source": []
  },
  {
   "cell_type": "code",
   "execution_count": null,
   "metadata": {},
   "outputs": [],
   "source": [
    "\n"
   ]
  },
  {
   "cell_type": "code",
   "execution_count": 5,
   "metadata": {},
   "outputs": [],
   "source": [
    "iminegg = Iminegg(iminegg_net)"
   ]
  },
  {
   "cell_type": "code",
   "execution_count": null,
   "metadata": {},
   "outputs": [],
   "source": []
  },
  {
   "cell_type": "code",
   "execution_count": 6,
   "metadata": {},
   "outputs": [
    {
     "name": "stderr",
     "output_type": "stream",
     "text": [
      "c:\\ML\\iminegg\\my_iterable_dataset.py:19: UserWarning: The given NumPy array is not writeable, and PyTorch does not support non-writeable tensors. This means you can write to the underlying (supposedly non-writeable) NumPy array using the tensor. You may want to copy the array to protect its data or make it writeable before converting it to a tensor. This type of warning will be suppressed for the rest of this program. (Triggered internally at  ..\\torch\\csrc\\utils\\tensor_numpy.cpp:141.)\n",
      "  self.voices.append(torch.from_numpy(data).float() / 32768)\n"
     ]
    }
   ],
   "source": [
    "ds_train = MyIterableDataset(2000, \"./data/train\")\n",
    "ds_validate = MyIterableDataset(100, \"./data/val\")"
   ]
  },
  {
   "cell_type": "code",
   "execution_count": null,
   "metadata": {},
   "outputs": [],
   "source": []
  },
  {
   "cell_type": "code",
   "execution_count": 43,
   "metadata": {},
   "outputs": [
    {
     "name": "stderr",
     "output_type": "stream",
     "text": [
      "GPU available: True, used: True\n",
      "TPU available: False, using: 0 TPU cores\n",
      "CUDA_VISIBLE_DEVICES: [0]\n"
     ]
    }
   ],
   "source": [
    "trainer = pl.Trainer(max_epochs=30, gpus=1, logger=tb_logger)"
   ]
  },
  {
   "cell_type": "code",
   "execution_count": 24,
   "metadata": {},
   "outputs": [
    {
     "name": "stderr",
     "output_type": "stream",
     "text": [
      "GPU available: True, used: True\n",
      "TPU available: False, using: 0 TPU cores\n",
      "CUDA_VISIBLE_DEVICES: [0]\n",
      "C:\\Users\\alsa0217\\Anaconda3\\lib\\site-packages\\pytorch_lightning\\utilities\\distributed.py:37: UserWarning: Could not log computational graph since the `model.example_input_array` attribute is not set or `input_array` was not given\n",
      "  warnings.warn(*args, **kwargs)\n",
      "\n",
      "  | Name | Type        | Params\n",
      "-------------------------------------\n",
      "0 | net  | ImineggNet1 | 118 M \n",
      "C:\\Users\\alsa0217\\Anaconda3\\lib\\site-packages\\pytorch_lightning\\utilities\\distributed.py:37: UserWarning: Your `IterableDataset` has `__len__` defined. In combination with multi-processing data loading (e.g. batch size > 1), this can lead to unintended side effects since the samples will be duplicated.\n",
      "  warnings.warn(*args, **kwargs)\n"
     ]
    },
    {
     "data": {
      "application/vnd.jupyter.widget-view+json": {
       "model_id": "",
       "version_major": 2,
       "version_minor": 0
      },
      "text/plain": [
       "HBox(children=(FloatProgress(value=1.0, bar_style='info', description='Validation sanity check', layout=Layout…"
      ]
     },
     "metadata": {},
     "output_type": "display_data"
    },
    {
     "data": {
      "application/vnd.jupyter.widget-view+json": {
       "model_id": "176a2ca2c47f462baf816d50bde7a81d",
       "version_major": 2,
       "version_minor": 0
      },
      "text/plain": [
       "HBox(children=(FloatProgress(value=1.0, bar_style='info', description='Training', layout=Layout(flex='2'), max…"
      ]
     },
     "metadata": {},
     "output_type": "display_data"
    },
    {
     "data": {
      "application/vnd.jupyter.widget-view+json": {
       "model_id": "",
       "version_major": 2,
       "version_minor": 0
      },
      "text/plain": [
       "HBox(children=(FloatProgress(value=1.0, bar_style='info', description='Validating', layout=Layout(flex='2'), m…"
      ]
     },
     "metadata": {},
     "output_type": "display_data"
    },
    {
     "data": {
      "application/vnd.jupyter.widget-view+json": {
       "model_id": "",
       "version_major": 2,
       "version_minor": 0
      },
      "text/plain": [
       "HBox(children=(FloatProgress(value=1.0, bar_style='info', description='Validating', layout=Layout(flex='2'), m…"
      ]
     },
     "metadata": {},
     "output_type": "display_data"
    },
    {
     "data": {
      "application/vnd.jupyter.widget-view+json": {
       "model_id": "",
       "version_major": 2,
       "version_minor": 0
      },
      "text/plain": [
       "HBox(children=(FloatProgress(value=1.0, bar_style='info', description='Validating', layout=Layout(flex='2'), m…"
      ]
     },
     "metadata": {},
     "output_type": "display_data"
    },
    {
     "name": "stderr",
     "output_type": "stream",
     "text": [
      "Saving latest checkpoint..\n"
     ]
    },
    {
     "name": "stdout",
     "output_type": "stream",
     "text": [
      "\n"
     ]
    },
    {
     "data": {
      "text/plain": [
       "1"
      ]
     },
     "execution_count": 24,
     "metadata": {},
     "output_type": "execute_result"
    }
   ],
   "source": [
    "tb_logger = pl_loggers.TensorBoardLogger('logs/')\n",
    "trainer = pl.Trainer(resume_from_checkpoint=\"logs/default/version_0/checkpoints/epoch=28.ckpt\",\n",
    "                     max_epochs=32, gpus=1, logger=tb_logger)\n",
    "train_set = DataLoader(ds_train, batch_size=20)\n",
    "validate_set = DataLoader(ds_validate, batch_size=20)\n",
    "trainer.fit(iminegg, train_set, validate_set)\n"
   ]
  },
  {
   "cell_type": "code",
   "execution_count": 45,
   "metadata": {},
   "outputs": [
    {
     "data": {
      "text/plain": [
       "ImineggNet1(\n",
       "  (relu): ReLU()\n",
       "  (dropout): Dropout(p=0.5, inplace=False)\n",
       "  (leaky_relu): LeakyReLU(negative_slope=0.2)\n",
       "  (conv1): Conv1d(1, 128, kernel_size=(65,), stride=(2,), padding=(32,))\n",
       "  (conv2): Conv1d(128, 384, kernel_size=(33,), stride=(2,), padding=(16,))\n",
       "  (conv3): Conv1d(384, 512, kernel_size=(17,), stride=(2,), padding=(8,))\n",
       "  (conv4): Conv1d(512, 512, kernel_size=(9,), stride=(2,), padding=(4,))\n",
       "  (conv5): Conv1d(512, 512, kernel_size=(9,), stride=(2,), padding=(4,))\n",
       "  (conv6): Conv1d(512, 512, kernel_size=(9,), stride=(2,), padding=(4,))\n",
       "  (conv7): Conv1d(512, 512, kernel_size=(9,), stride=(2,), padding=(4,))\n",
       "  (conv8): Conv1d(512, 512, kernel_size=(9,), stride=(2,), padding=(4,))\n",
       "  (conv_btlneck): Conv1d(512, 512, kernel_size=(9,), stride=(2,), padding=(4,))\n",
       "  (conv8_up): Conv1d(512, 1024, kernel_size=(9,), stride=(1,), padding=(4,))\n",
       "  (conv7_up): Conv1d(1024, 1024, kernel_size=(9,), stride=(1,), padding=(4,))\n",
       "  (conv6_up): Conv1d(1024, 1024, kernel_size=(9,), stride=(1,), padding=(4,))\n",
       "  (conv5_up): Conv1d(1024, 1024, kernel_size=(9,), stride=(1,), padding=(4,))\n",
       "  (conv4_up): Conv1d(1024, 1024, kernel_size=(9,), stride=(1,), padding=(4,))\n",
       "  (conv3_up): Conv1d(1024, 1024, kernel_size=(17,), stride=(1,), padding=(8,))\n",
       "  (conv2_up): Conv1d(1024, 768, kernel_size=(33,), stride=(1,), padding=(16,))\n",
       "  (conv1_up): Conv1d(768, 256, kernel_size=(65,), stride=(1,), padding=(32,))\n",
       "  (conv_final): Conv1d(256, 2, kernel_size=(9,), stride=(1,), padding=(4,))\n",
       "  (pixel_shuffle): PixelShuffle1D()\n",
       "  (pixel_shuffle2): PixelShuffle1D()\n",
       ")"
      ]
     },
     "execution_count": 45,
     "metadata": {},
     "output_type": "execute_result"
    }
   ],
   "source": [
    "iminegg_net.load_state_dict(torch.load('m1.chkp'))\n",
    "iminegg_net.eval()"
   ]
  },
  {
   "cell_type": "code",
   "execution_count": null,
   "metadata": {},
   "outputs": [],
   "source": []
  },
  {
   "cell_type": "code",
   "execution_count": null,
   "metadata": {},
   "outputs": [],
   "source": []
  },
  {
   "cell_type": "code",
   "execution_count": 8,
   "metadata": {},
   "outputs": [
    {
     "name": "stderr",
     "output_type": "stream",
     "text": [
      "<ipython-input-8-56907183a47b>:4: UserWarning: The given NumPy array is not writeable, and PyTorch does not support non-writeable tensors. This means you can write to the underlying (supposedly non-writeable) NumPy array using the tensor. You may want to copy the array to protect its data or make it writeable before converting it to a tensor. This type of warning will be suppressed for the rest of this program. (Triggered internally at  ..\\torch\\csrc\\utils\\tensor_numpy.cpp:141.)\n",
      "  voices.append(torch.from_numpy(data).to(device).float())\n"
     ]
    }
   ],
   "source": []
  },
  {
   "cell_type": "code",
   "execution_count": 9,
   "metadata": {},
   "outputs": [],
   "source": []
  },
  {
   "cell_type": "code",
   "execution_count": 10,
   "metadata": {},
   "outputs": [],
   "source": []
  },
  {
   "cell_type": "code",
   "execution_count": 254,
   "metadata": {},
   "outputs": [
    {
     "data": {
      "text/plain": [
       "{'input': tensor([[-1703, -1614, -1330,  ...,   312,   633,   757],\n",
       "         [ -254,  -104,   170,  ..., 10608, 11919, 12667],\n",
       "         [-3496, -5741, -5815,  ..., -7884, -3682,  -280],\n",
       "         [ 6611,  -565,   246,  ..., -1606, -1655, -1527]], device='cuda:0',\n",
       "        dtype=torch.int16),\n",
       " 'target': tensor([[    0.,     0.,     0.,  ...,     0.,     0.,     0.],\n",
       "         [ -254.,  -104.,   170.,  ..., 10608., 11919., 12667.],\n",
       "         [    0.,     0.,     0.,  ...,     0.,     0.,     0.],\n",
       "         [ 6475.,  -632.,   296.,  ..., -1625., -1664., -1521.]],\n",
       "        device='cuda:0')}"
      ]
     },
     "execution_count": 254,
     "metadata": {},
     "output_type": "execute_result"
    }
   ],
   "source": [
    "dl = DataLoader(ds, batch_size=4)\n",
    "next(iter(dl))"
   ]
  },
  {
   "cell_type": "code",
   "execution_count": 31,
   "metadata": {},
   "outputs": [],
   "source": [
    "d = ds_train.generate_with_noise()\n",
    "inp = d['input'].cpu()\n",
    "target = d['target'].cpu()"
   ]
  },
  {
   "cell_type": "code",
   "execution_count": 32,
   "metadata": {},
   "outputs": [],
   "source": [
    "sd.play(inp, samplerate)"
   ]
  },
  {
   "cell_type": "code",
   "execution_count": 33,
   "metadata": {},
   "outputs": [],
   "source": [
    "iminegg_net.eval()\n",
    "outp = iminegg_net.calc(torch.unsqueeze(torch.unsqueeze(inp, 0), 0)).reshape(-1)\n",
    "outp.shape\n",
    "sd.play(outp.cpu().detach().numpy(), samplerate)\n"
   ]
  },
  {
   "cell_type": "code",
   "execution_count": 33,
   "metadata": {},
   "outputs": [],
   "source": [
    "export_outp = (outp.cpu() * 32768).short()\n",
    "export_inp = (inp.cpu() * 32768).short()\n",
    "\n",
    "wavfile.write('filtered_5.wav', samplerate, export_outp.detach().numpy())\n",
    "wavfile.write('source_5.wav', samplerate, export_inp.detach().numpy())"
   ]
  },
  {
   "cell_type": "code",
   "execution_count": null,
   "metadata": {},
   "outputs": [],
   "source": []
  },
  {
   "cell_type": "code",
   "execution_count": 13,
   "metadata": {},
   "outputs": [],
   "source": [
    "sd.play(ds_train.generate_with_noise()['input'].cpu(), samplerate)"
   ]
  },
  {
   "cell_type": "code",
   "execution_count": 38,
   "metadata": {},
   "outputs": [
    {
     "data": {
      "text/plain": [
       "tensor(0., grad_fn=<MaxBackward1>)"
      ]
     },
     "execution_count": 38,
     "metadata": {},
     "output_type": "execute_result"
    }
   ],
   "source": [
    "(inp-outp).abs().max()"
   ]
  },
  {
   "cell_type": "code",
   "execution_count": 129,
   "metadata": {},
   "outputs": [],
   "source": [
    "torch.save(iminegg_net.state_dict(), 'm1.chkp')"
   ]
  },
  {
   "cell_type": "code",
   "execution_count": 51,
   "metadata": {},
   "outputs": [
    {
     "data": {
      "text/plain": [
       "945398809"
      ]
     },
     "execution_count": 51,
     "metadata": {},
     "output_type": "execute_result"
    }
   ],
   "source": [
    "import gc\n",
    "s = 0\n",
    "for t in (filter(lambda x: isinstance(x, torch.cuda.FloatTensor), gc.get_objects() )):\n",
    "    s += t.nelement()\n",
    "s"
   ]
  },
  {
   "cell_type": "code",
   "execution_count": 68,
   "metadata": {},
   "outputs": [],
   "source": [
    "d_noise = ds_train.generate_noise()\n",
    "noise_inp = d_noise['input']"
   ]
  },
  {
   "cell_type": "code",
   "execution_count": 74,
   "metadata": {},
   "outputs": [
    {
     "data": {
      "text/plain": [
       "tensor(8.0493e-05)"
      ]
     },
     "execution_count": 74,
     "metadata": {},
     "output_type": "execute_result"
    }
   ],
   "source": [
    "#sd.play(noise_inp.detach().numpy(), samplerate)\n",
    "\n",
    "F.mse_loss(noise_inp, torch.zeros_like(noise_inp))"
   ]
  },
  {
   "cell_type": "code",
   "execution_count": null,
   "metadata": {},
   "outputs": [],
   "source": [
    "\n"
   ]
  },
  {
   "cell_type": "code",
   "execution_count": null,
   "metadata": {},
   "outputs": [],
   "source": []
  },
  {
   "cell_type": "code",
   "execution_count": null,
   "metadata": {},
   "outputs": [],
   "source": []
  }
 ],
 "metadata": {
  "kernelspec": {
   "display_name": "Python 3",
   "language": "python",
   "name": "python3"
  },
  "language_info": {
   "codemirror_mode": {
    "name": "ipython",
    "version": 3
   },
   "file_extension": ".py",
   "mimetype": "text/x-python",
   "name": "python",
   "nbconvert_exporter": "python",
   "pygments_lexer": "ipython3",
   "version": "3.8.3"
  }
 },
 "nbformat": 4,
 "nbformat_minor": 4
}
